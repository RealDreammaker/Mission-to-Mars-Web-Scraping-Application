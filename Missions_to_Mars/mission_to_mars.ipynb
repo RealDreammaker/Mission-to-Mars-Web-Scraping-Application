{
 "cells": [
  {
   "cell_type": "code",
   "execution_count": 13,
   "metadata": {},
   "outputs": [],
   "source": [
    "# import dependancies\n",
    "from splinter import Browser\n",
    "from bs4 import BeautifulSoup\n",
    "from webdriver_manager.chrome import ChromeDriverManager\n",
    "import time\n",
    "import pandas as pd"
   ]
  },
  {
   "cell_type": "code",
   "execution_count": 14,
   "metadata": {},
   "outputs": [
    {
     "name": "stderr",
     "output_type": "stream",
     "text": [
      "\n",
      "\n",
      "====== WebDriver manager ======\n",
      "Current google-chrome version is 98.0.4758\n",
      "Get LATEST chromedriver version for 98.0.4758 google-chrome\n",
      "Driver [C:\\Users\\knguy\\.wdm\\drivers\\chromedriver\\win32\\98.0.4758.80\\chromedriver.exe] found in cache\n"
     ]
    }
   ],
   "source": [
    "# initialize chrome browser using splinter\n",
    "executable_path = {'executable_path': ChromeDriverManager().install()}\n",
    "browser = Browser('chrome', **executable_path, headless=False)"
   ]
  },
  {
   "cell_type": "markdown",
   "metadata": {},
   "source": [
    "##### NASA Mars News\n",
    "###### Scrape the Mars News Site and collect the latest News Title and Paragraph Text"
   ]
  },
  {
   "cell_type": "code",
   "execution_count": 15,
   "metadata": {},
   "outputs": [
    {
     "name": "stderr",
     "output_type": "stream",
     "text": [
      "\n",
      "\n",
      "====== WebDriver manager ======\n",
      "Current google-chrome version is 98.0.4758\n",
      "Get LATEST chromedriver version for 98.0.4758 google-chrome\n",
      "Driver [C:\\Users\\knguy\\.wdm\\drivers\\chromedriver\\win32\\98.0.4758.80\\chromedriver.exe] found in cache\n"
     ]
    },
    {
     "name": "stdout",
     "output_type": "stream",
     "text": [
      "NASA's Curiosity Mars Rover Takes a New Selfie Before Record Climb\n",
      "Along with capturing an image before its steepest ascent ever, the robotic explorer filmed its \"selfie stick,\" or robotic arm, in action.\n"
     ]
    }
   ],
   "source": [
    "# visit browser\n",
    "url = \"https://redplanetscience.com/\"\n",
    "browser.visit(url)\n",
    "\n",
    "# ensure sufficient time for browser to load\n",
    "time.sleep(1)\n",
    "\n",
    "# parse the website to html\n",
    "html = browser.html\n",
    "soup = BeautifulSoup(html, \"html.parser\")\n",
    "\n",
    "# getting the latest new, should always be the first on the list\n",
    "lastest_title =  soup.find(\"div\", class_= \"content_title\").text\n",
    "lastest_news =  soup.find(\"div\", class_= \"article_teaser_body\").text\n",
    "\n",
    "print(lastest_title)\n",
    "print(lastest_news)"
   ]
  },
  {
   "cell_type": "markdown",
   "metadata": {},
   "source": [
    "##### JPL Mars Space Images - Featured Image"
   ]
  },
  {
   "cell_type": "code",
   "execution_count": 16,
   "metadata": {},
   "outputs": [
    {
     "data": {
      "text/plain": [
       "'https://spaceimages-mars.com/image/featured/mars3.jpg'"
      ]
     },
     "execution_count": 16,
     "metadata": {},
     "output_type": "execute_result"
    }
   ],
   "source": [
    "# visit browser\n",
    "url = \"https://spaceimages-mars.com/\"\n",
    "browser.visit(url)\n",
    "\n",
    "# ensure sufficient time for browser to load\n",
    "time.sleep(1)\n",
    "\n",
    "# parse the website to html\n",
    "html = browser.html\n",
    "soup = BeautifulSoup(html, \"html.parser\")\n",
    "\n",
    "image_rel_path = soup.find(\"img\", class_= \"headerimage fade-in\")[\"src\"] \n",
    "# complete image path\n",
    "featured_image_url = url + image_rel_path\n",
    "featured_image_url"
   ]
  },
  {
   "cell_type": "markdown",
   "metadata": {},
   "source": [
    "##### Mars Facts"
   ]
  },
  {
   "cell_type": "code",
   "execution_count": 17,
   "metadata": {},
   "outputs": [
    {
     "data": {
      "text/plain": [
       "'<table border=\"1\" class=\"dataframe table table-striped table-hover\">\\n  <thead>\\n    <tr style=\"text-align: left;\">\\n      <th style=\"min-width: 33%;\"></th>\\n      <th style=\"min-width: 33%;\">Mars - Earth Comparison</th>\\n      <th style=\"min-width: 33%;\">Mars</th>\\n      <th style=\"min-width: 33%;\">Earth</th>\\n    </tr>\\n  </thead>\\n  <tbody>\\n    <tr>\\n      <th></th>\\n      <td>Diameter:</td>\\n      <td>6,779 km</td>\\n      <td>12,742 km</td>\\n    </tr>\\n    <tr>\\n      <th></th>\\n      <td>Mass:</td>\\n      <td>6.39 × 10^23 kg</td>\\n      <td>5.97 × 10^24 kg</td>\\n    </tr>\\n    <tr>\\n      <th></th>\\n      <td>Moons:</td>\\n      <td>2</td>\\n      <td>1</td>\\n    </tr>\\n    <tr>\\n      <th></th>\\n      <td>Distance from Sun:</td>\\n      <td>227,943,824 km</td>\\n      <td>149,598,262 km</td>\\n    </tr>\\n    <tr>\\n      <th></th>\\n      <td>Length of Year:</td>\\n      <td>687 Earth days</td>\\n      <td>365.24 days</td>\\n    </tr>\\n    <tr>\\n      <th></th>\\n      <td>Temperature:</td>\\n      <td>-87 to -5 °C</td>\\n      <td>-88 to 58°C</td>\\n    </tr>\\n  </tbody>\\n</table>'"
      ]
     },
     "execution_count": 17,
     "metadata": {},
     "output_type": "execute_result"
    }
   ],
   "source": [
    "# visit browser\n",
    "url = \"https://galaxyfacts-mars.com/\"\n",
    "\n",
    "# parse html to dataframe table\n",
    "table = pd.read_html(url)\n",
    "\n",
    "# keeping the comparable data \n",
    "df1 = table[0]\n",
    "\n",
    "# set first row column names \n",
    "df1.columns = df1.iloc[0]\n",
    "df1 = df1.iloc[1:]\n",
    "\n",
    "# convert comparable data to html\n",
    "html_mars_earth = df1.to_html(classes=\"table table-striped table-hover\", justify= \"left\", col_space = \"33%\", border = 1, index = False)\n",
    "html_mars_earth\n"
   ]
  },
  {
   "cell_type": "code",
   "execution_count": 18,
   "metadata": {},
   "outputs": [
    {
     "data": {
      "text/plain": [
       "'<table border=\"1\" class=\"dataframe table table-dark table-hover\">\\n  <tbody>\\n    <tr>\\n      <td>Equatorial Diameter:</td>\\n      <td>6,792 km</td>\\n    </tr>\\n    <tr>\\n      <td>Polar Diameter:</td>\\n      <td>6,752 km</td>\\n    </tr>\\n    <tr>\\n      <td>Mass:</td>\\n      <td>6.39 × 10^23 kg (0.11 Earths)</td>\\n    </tr>\\n    <tr>\\n      <td>Moons:</td>\\n      <td>2 ( Phobos &amp; Deimos )</td>\\n    </tr>\\n    <tr>\\n      <td>Orbit Distance:</td>\\n      <td>227,943,824 km (1.38 AU)</td>\\n    </tr>\\n    <tr>\\n      <td>Orbit Period:</td>\\n      <td>687 days (1.9 years)</td>\\n    </tr>\\n    <tr>\\n      <td>Surface Temperature:</td>\\n      <td>-87 to -5 °C</td>\\n    </tr>\\n    <tr>\\n      <td>First Record:</td>\\n      <td>2nd millennium BC</td>\\n    </tr>\\n    <tr>\\n      <td>Recorded By:</td>\\n      <td>Egyptian astronomers</td>\\n    </tr>\\n  </tbody>\\n</table>'"
      ]
     },
     "execution_count": 18,
     "metadata": {},
     "output_type": "execute_result"
    }
   ],
   "source": [
    "\n",
    "# keeping the comparable data \n",
    "df2 = table[1]\n",
    "\n",
    "# convert comparable data to html\n",
    "html_mars_fact = df2.to_html(classes=\"table table-dark table-hover \", header = False, justify= \"left\", col_space = \"33%\", border = 1, index = False)\n",
    "html_mars_fact"
   ]
  },
  {
   "cell_type": "markdown",
   "metadata": {},
   "source": [
    "##### Mars Hemispheres"
   ]
  },
  {
   "cell_type": "code",
   "execution_count": 19,
   "metadata": {},
   "outputs": [
    {
     "data": {
      "text/plain": [
       "[{'title': 'Cerberus Hemisphere Enhanced',\n",
       "  'img_url': 'https://marshemispheres.com/images/full.jpg'},\n",
       " {'title': 'Schiaparelli Hemisphere Enhanced',\n",
       "  'img_url': 'https://marshemispheres.com/images/schiaparelli_enhanced-full.jpg'},\n",
       " {'title': 'Syrtis Major Hemisphere Enhanced',\n",
       "  'img_url': 'https://marshemispheres.com/images/syrtis_major_enhanced-full.jpg'},\n",
       " {'title': 'Valles Marineris Hemisphere Enhanced',\n",
       "  'img_url': 'https://marshemispheres.com/images/valles_marineris_enhanced-full.jpg'}]"
      ]
     },
     "execution_count": 19,
     "metadata": {},
     "output_type": "execute_result"
    }
   ],
   "source": [
    "# visit browser\n",
    "url = \"https://marshemispheres.com/\"\n",
    "browser.visit(url)\n",
    "\n",
    "# ensure sufficient time for browser to load\n",
    "time.sleep(1)\n",
    "\n",
    "html = browser.html\n",
    "soup = BeautifulSoup(html,\"html.parser\")\n",
    "\n",
    "# getting text links to the hemispheres by looping through h3\n",
    "hemisphere_titles = []\n",
    "for item in soup.find_all(\"h3\"):\n",
    "    # except for h3 with text content of \"Back\", store titles to variables\n",
    "    if item.text != \"Back\":\n",
    "        hemisphere_titles.append(item.text.strip())\n",
    "\n",
    "hemisphere_titles\n",
    "\n",
    "# navigate to the link found above\n",
    "hemisphere_image_urls = []\n",
    "for title in hemisphere_titles:\n",
    "    browser.links.find_by_partial_text(title).click()\n",
    "    \n",
    "    # parse the website to html\n",
    "    html = browser.html\n",
    "    soup = BeautifulSoup(html, \"html.parser\")\n",
    "\n",
    "    items = soup.find_all(\"li\")\n",
    "    for item in items:\n",
    "        try:\n",
    "            if item.a.text == \"Sample\":\n",
    "                img_link = url + item.a[\"href\"]\n",
    "                hemisphere_image_urls.append({\n",
    "                    \"title\": title,\n",
    "                    \"img_url\": img_link\n",
    "                })\n",
    "                break \n",
    "        except AttributeError:                       \n",
    "            pass\n",
    "    # return to the previous page\n",
    "    browser.links.find_by_partial_text(\"Back\").click()\n",
    "\n",
    "hemisphere_image_urls"
   ]
  },
  {
   "cell_type": "code",
   "execution_count": 20,
   "metadata": {},
   "outputs": [],
   "source": [
    "# store data in a dictionary variable\n",
    "scraped_data = {\n",
    "    \"news_title\": lastest_title,\n",
    "    \"news_p\":lastest_news,\n",
    "    \"featured_image_url\": featured_image_url,\n",
    "    \"mars_earth\": html_mars_earth,\n",
    "    \"mars_fact\": html_mars_fact,\n",
    "    \"hemisphere_image_urls\": hemisphere_image_urls\n",
    "}\n",
    "\n",
    "# exit browser\n",
    "browser.quit()"
   ]
  }
 ],
 "metadata": {
  "interpreter": {
   "hash": "438308512471a1f928ce0cbee27d6bd148d5856c9990edc20f93d3e763c3a07b"
  },
  "kernelspec": {
   "display_name": "Python 3.8.8 ('base')",
   "language": "python",
   "name": "python3"
  },
  "language_info": {
   "codemirror_mode": {
    "name": "ipython",
    "version": 3
   },
   "file_extension": ".py",
   "mimetype": "text/x-python",
   "name": "python",
   "nbconvert_exporter": "python",
   "pygments_lexer": "ipython3",
   "version": "3.8.8"
  },
  "orig_nbformat": 4
 },
 "nbformat": 4,
 "nbformat_minor": 2
}
